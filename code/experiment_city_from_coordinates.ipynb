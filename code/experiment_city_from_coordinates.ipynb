{
 "cells": [
  {
   "cell_type": "code",
   "execution_count": 3,
   "metadata": {},
   "outputs": [],
   "source": [
    "import pandas as pd\n",
    "import matplotlib.pyplot as plt\n",
    "import numpy as np\n",
    "import pandas as pd"
   ]
  },
  {
   "cell_type": "code",
   "execution_count": 5,
   "metadata": {},
   "outputs": [
    {
     "data": {
      "text/html": [
       "<div>\n",
       "<style scoped>\n",
       "    .dataframe tbody tr th:only-of-type {\n",
       "        vertical-align: middle;\n",
       "    }\n",
       "\n",
       "    .dataframe tbody tr th {\n",
       "        vertical-align: top;\n",
       "    }\n",
       "\n",
       "    .dataframe thead th {\n",
       "        text-align: right;\n",
       "    }\n",
       "</style>\n",
       "<table border=\"1\" class=\"dataframe\">\n",
       "  <thead>\n",
       "    <tr style=\"text-align: right;\">\n",
       "      <th></th>\n",
       "      <th>text</th>\n",
       "      <th>coordinates_lat</th>\n",
       "      <th>coordinates_long</th>\n",
       "      <th>tweet_city</th>\n",
       "      <th>predicted_cluster_label</th>\n",
       "      <th>predicted_long</th>\n",
       "      <th>predicted_lat</th>\n",
       "    </tr>\n",
       "  </thead>\n",
       "  <tbody>\n",
       "    <tr>\n",
       "      <th>0</th>\n",
       "      <td>I got 99 problems but this dick aint one</td>\n",
       "      <td>28.980133</td>\n",
       "      <td>-80.909141</td>\n",
       "      <td>palm bay-fl009-us</td>\n",
       "      <td>8</td>\n",
       "      <td>-2.408918</td>\n",
       "      <td>53.786732</td>\n",
       "    </tr>\n",
       "  </tbody>\n",
       "</table>\n",
       "</div>"
      ],
      "text/plain": [
       "                                       text  coordinates_lat  \\\n",
       "0  I got 99 problems but this dick aint one        28.980133   \n",
       "\n",
       "   coordinates_long         tweet_city  predicted_cluster_label  \\\n",
       "0        -80.909141  palm bay-fl009-us                        8   \n",
       "\n",
       "   predicted_long  predicted_lat  \n",
       "0       -2.408918      53.786732  "
      ]
     },
     "execution_count": 5,
     "metadata": {},
     "output_type": "execute_result"
    }
   ],
   "source": [
    "# Load estimated coordinates values \n",
    "\n",
    "train_file = 'train_10_clusters_lr_embedding_True.csv'\n",
    "train_df = pd.read_csv('dataset_with_predictions/final/' + train_file)\n",
    "\n",
    "test_file = 'test_10_clusters_lr_embedding_True.csv'\n",
    "test_df = pd.read_csv('dataset_with_predictions/final/' + test_file)\n",
    "\n",
    "test_df.head(1)"
   ]
  },
  {
   "cell_type": "code",
   "execution_count": 6,
   "metadata": {},
   "outputs": [],
   "source": [
    "# Official evaluation for shared task WNUT\n",
    "\n",
    "# !{sys.executable} -m pip install ujson\n",
    "\n",
    "# import ujson as json\n",
    "import math\n",
    "\n",
    "EARTH_RADIUS = 6372.8\n",
    "\n",
    "\n",
    "def _calc_dist_radian(pLat, pLon, lat, lon):\n",
    "    \"\"\"\n",
    "    Calculate the Great Circle Distance between two points on earth\n",
    "    http://en.wikipedia.org/wiki/Great-circle_distance\n",
    "    \"\"\"\n",
    "    cos_pLat = math.cos(pLat)\n",
    "    sin_pLat = math.sin(pLat)\n",
    "    cos_lat = math.cos(lat)\n",
    "    sin_lat = math.sin(lat)\n",
    "    long_diff = pLon - lon\n",
    "    cos_long_diff = math.cos(long_diff)\n",
    "    sin_long_diff = math.sin(long_diff)\n",
    "    numerator = math.sqrt(math.pow(cos_lat * sin_long_diff, 2) +\n",
    "                          math.pow(cos_pLat * sin_lat - sin_pLat * cos_lat * cos_long_diff, 2))\n",
    "    denominator = sin_pLat * sin_lat + cos_pLat * cos_lat * cos_long_diff\n",
    "    radian = math.atan2(numerator, denominator)\n",
    "    return radian * EARTH_RADIUS\n",
    "\n",
    "\n",
    "def _degree_radian(degree):\n",
    "    return (degree * math.pi) / 180\n",
    "\n",
    "\n",
    "def calc_dist_degree(pLat, pLon, lat, lon):\n",
    "    pLat = _degree_radian(pLat)\n",
    "    pLon = _degree_radian(pLon)\n",
    "    lat = _degree_radian(lat)\n",
    "    lon = _degree_radian(lon)\n",
    "    return _calc_dist_radian(pLat, pLon, lat, lon)\n",
    "\n",
    "\n",
    "def evaluate_submission(output_data, oracle_data):\n",
    "#     output_data = etl_data(output_file, submission_type)\n",
    "#     oracle_data = etl_data(oracle_file, submission_type)\n",
    "    assert len(output_data) == len(oracle_data)\n",
    "    accuracy, median_error, mean_error = 0.0, 0.0, 0.0\n",
    "    right, wrong = 0, 0\n",
    "    error_distance_list = []\n",
    "    for output, oracle in zip(output_data, oracle_data):        \n",
    "        assert output[0] == oracle[0]\n",
    "        if output[1] == oracle[1]:\n",
    "            right += 1\n",
    "        else:\n",
    "            wrong += 1\n",
    "        error_distance = calc_dist_degree(output[2], output[3], oracle[2], oracle[3])\n",
    "        error_distance_list.append(error_distance)\n",
    "\n",
    "    accuracy = round(right / (right + wrong + 1e-6), 4)\n",
    "    error_distance_list.sort()\n",
    "    total_num = len(error_distance_list)\n",
    "        \n",
    "    mean_error = round(sum(error_distance_list) / (total_num + 1e-6), 4)\n",
    "    median_error = round(error_distance_list[int(total_num / 2)], 4)\n",
    "    \n",
    "    \n",
    "    output_file = ''\n",
    "    submission_type = ''\n",
    "    \n",
    "    result = \"WNUT evaluation: {}, {}, {}, {}, {}\".format(output_file,\n",
    "                                                  submission_type,\n",
    "                                                  accuracy,\n",
    "                                                  median_error,\n",
    "                                                  mean_error)\n",
    "    print(result)"
   ]
  },
  {
   "cell_type": "code",
   "execution_count": 8,
   "metadata": {},
   "outputs": [],
   "source": [
    "def show_result_report():\n",
    "    test_df['id'] = test_df.index\n",
    "\n",
    "    output_df = test_df[['id', 'predicted_city', 'predicted_lat', 'predicted_long']]\n",
    "    oracle_df = test_df[['id', 'tweet_city', 'coordinates_lat', 'coordinates_long']]\n",
    "\n",
    "    output_data = list(output_df.to_records(index=False))\n",
    "    oracle_data = list(oracle_df.to_records(index=False))\n",
    "    \n",
    "    evaluate_submission(output_data, oracle_data)"
   ]
  },
  {
   "cell_type": "code",
   "execution_count": 9,
   "metadata": {},
   "outputs": [
    {
     "name": "stdout",
     "output_type": "stream",
     "text": [
      "Result for predicting most common city by cluster:\n",
      "WNUT evaluation: , , 0.0297, 7776.0522, 7405.35\n"
     ]
    }
   ],
   "source": [
    "def predict_most_common_city_by_cluster():\n",
    "    cluster_city = dict()    # Most frequently occurring city for each cluster\n",
    "\n",
    "    for cluster_label, df in train_df.groupby('cluster_label'):\n",
    "        most_freq_city = df['tweet_city'].mode()[0]\n",
    "        cluster_city[cluster_label] = most_freq_city\n",
    "    \n",
    "    try:\n",
    "        test_df['predicted_city'] = test_df['predicted_cluster_label'].apply(lambda l: cluster_city[l])    \n",
    "    except Exception as e:\n",
    "        print('Encountered error, predicting most common city: {}'.format(e))\n",
    "        \n",
    "\n",
    "predict_most_common_city_by_cluster()\n",
    "\n",
    "print('Result for predicting most common city by cluster:')\n",
    "show_result_report()"
   ]
  },
  {
   "cell_type": "code",
   "execution_count": 13,
   "metadata": {},
   "outputs": [
    {
     "name": "stdout",
     "output_type": "stream",
     "text": [
      "Training and predicting city using classifier: KNeighborsClassifier(n_neighbors=3)\n",
      "WNUT evaluation: , , 0.0, 8430.5643, 8051.9956\n"
     ]
    }
   ],
   "source": [
    "from sklearn.neighbors import KNeighborsClassifier\n",
    "\n",
    "\n",
    "for NUM_NEIGHBOURS in (3, 5, 10, 50, 100):\n",
    "    classifier = KNeighborsClassifier(n_neighbors=NUM_NEIGHBOURS)\n",
    "\n",
    "    train_features = train_df[['coordinates_lat', 'coordinates_long']]\n",
    "    train_labels = train_df['tweet_city']\n",
    "\n",
    "    test_features = test_df[['predicted_lat', 'predicted_long']]\n",
    "\n",
    "    print('Training and predicting city using classifier: {}'.format(classifier))\n",
    "    classifier.fit(train_features, train_labels)\n",
    "    test_df['predicted_city'] = classifier.predict(test_features)\n",
    "\n",
    "    print('Result for predicting city by {} nearest neighbours:'.format(NUM_NEIGHBOURS))\n",
    "    show_result_report()"
   ]
  },
  {
   "cell_type": "code",
   "execution_count": null,
   "metadata": {},
   "outputs": [],
   "source": [
    "from sklearn.linear_model import LogisticRegression\n",
    "from sklearn.naive_bayes import GaussianNB\n",
    "from sklearn.svm import SVC\n",
    "\n",
    "\n",
    "for classifier in (LogisticRegression(), GaussianNB(), SVC()):\n",
    "    train_features = train_df[['coordinates_lat', 'coordinates_long']]\n",
    "    train_labels = train_df['tweet_city']\n",
    "\n",
    "    test_features = test_df[['predicted_lat', 'predicted_long']]\n",
    "\n",
    "    print('Training and predicting city using classifier: {}'.format(classifier))\n",
    "    classifier.fit(train_features, train_labels)\n",
    "    test_df['predicted_city'] = classifier.predict(test_features)\n",
    "\n",
    "    print('Result for predicting city by {}:'.format(classifier))\n",
    "    show_result_report()"
   ]
  },
  {
   "cell_type": "code",
   "execution_count": null,
   "metadata": {},
   "outputs": [],
   "source": [
    "print('Finished')"
   ]
  }
 ],
 "metadata": {
  "kernelspec": {
   "display_name": "Python 3",
   "language": "python",
   "name": "python3"
  },
  "language_info": {
   "codemirror_mode": {
    "name": "ipython",
    "version": 3
   },
   "file_extension": ".py",
   "mimetype": "text/x-python",
   "name": "python",
   "nbconvert_exporter": "python",
   "pygments_lexer": "ipython3",
   "version": "3.7.3"
  }
 },
 "nbformat": 4,
 "nbformat_minor": 2
}
